{
 "cells": [
  {
   "cell_type": "code",
   "execution_count": 97,
   "metadata": {},
   "outputs": [
    {
     "name": "stdout",
     "output_type": "stream",
     "text": [
      "<class 'pandas.core.frame.DataFrame'>\n",
      "Index: 15530 entries, 0 to 15634\n",
      "Data columns (total 14 columns):\n",
      " #   Column          Non-Null Count  Dtype \n",
      "---  ------          --------------  ----- \n",
      " 0   id              15530 non-null  int64 \n",
      " 1   expansion       15530 non-null  object\n",
      " 2   title_en        15530 non-null  object\n",
      " 3   objective_en    14152 non-null  object\n",
      " 4   description_en  14157 non-null  object\n",
      " 5   progress_en     9613 non-null   object\n",
      " 6   completion_en   14963 non-null  object\n",
      " 7   title_uk        6116 non-null   object\n",
      " 8   objective_uk    5276 non-null   object\n",
      " 9   description_uk  5273 non-null   object\n",
      " 10  progress_uk     4536 non-null   object\n",
      " 11  completion_uk   6012 non-null   object\n",
      " 12  cat             15530 non-null  object\n",
      " 13  glossary        15530 non-null  object\n",
      "dtypes: int64(1), object(13)\n",
      "memory usage: 1.8+ MB\n"
     ]
    }
   ],
   "source": [
    "import os\n",
    "import pandas as pd\n",
    "from openai import OpenAI\n",
    "from dotenv import load_dotenv\n",
    "\n",
    "load_dotenv()\n",
    "\n",
    "client = OpenAI(\n",
    "    api_key=os.getenv('OPENAI_API_KEY')\n",
    ")\n",
    "\n",
    "df=pd.read_pickle('cleaned_quests_with_glossary.pkl')\n",
    "df.info()"
   ]
  },
  {
   "cell_type": "code",
   "execution_count": 98,
   "metadata": {},
   "outputs": [],
   "source": [
    "def generate_request_json(row):\n",
    "    return {\n",
    "        \"original\": {\n",
    "            \"quest\": {\n",
    "                \"title\": row[\"title_en\"],\n",
    "                \"objective\": row[\"objective_en\"],\n",
    "                \"description\": row[\"description_en\"],\n",
    "                \"progress\": row[\"progress_en\"],\n",
    "                \"completion\": row[\"completion_en\"]\n",
    "            }\n",
    "        },\n",
    "        \"glossary\": {\n",
    "            \"glossary\": row[\"glossary\"]\n",
    "        }\n",
    "    }\n",
    "\n",
    "def generate_response_json(row):\n",
    "    return {\n",
    "        \"translation\": {\n",
    "            \"quest\": {\n",
    "                \"title\": row[\"title_uk\"],\n",
    "                \"objective\": row[\"objective_uk\"],\n",
    "                \"description\": row[\"description_uk\"],\n",
    "                \"progress\": row[\"progress_uk\"],\n",
    "                \"completion\": row[\"completion_uk\"]\n",
    "            }\n",
    "        }\n",
    "    }\n"
   ]
  },
  {
   "cell_type": "code",
   "execution_count": null,
   "metadata": {},
   "outputs": [],
   "source": [
    "TRANSLATION_SYSTEM_PROMPT = \"\"\"You are a professional translator specializing in MMORPG game localization, responsible for translating World of Warcraft content from English to Ukrainian. \n",
    "You will receive a JSON file containing an \"original\" section with the object to translate. \n",
    "Your task is to respond with a JSON containing single section, \"translation,\" that replicates the structure of the \"original\" section, replacing source text with translated values while maintaining all keys.\n",
    "Use your knowledge of the Warcraft universe to ensure accuracy and immersion.\n",
    "\n",
    "### **Guidelines**:\n",
    "\n",
    "1. **Preserve Structure**:\n",
    "   - The output JSON must retain the exact structure of the \"original\" section.\n",
    "   - Ensure all keys remain the same while replacing values with their Ukrainian translations.\n",
    "\n",
    "2. **Maintain Placeholders**:\n",
    "   - Always replace name/race/class placeholders in the original text with curly-bracedanslated placeholders with shortened Ukrainian grammatical case after a semicolon. For `<name>`, `<race>`, `<class>` use `{ім'я:н}`, `{раса:д}`, `{клас:к}` with correct grammatical case afet semicolon.\n",
    "\n",
    "3. **Adapt for Gender**:\n",
    "   - Translate text to be suitable for both genders. For placeholders with gender-specific variations (e.g., `<his/her>`, `<priest/priestess>`) and translated words that have different gender forms use the format `{стать:male:female}` (e.g., `{стать:його:її}`, `{стать:жрець:жриця}`).\n",
    "   - Gender placeholders should contain full words, so don't break words with placeholder: for example, instead of кмітлив{стать:ий:а} use {стать:кмітливий:кмітлива}\n",
    "   - Gender placeholders can contain more that one word. If there's several consequent gender-specific placeholders or they are divided with small word - put tham in single placeholder. Fo example: instead of \"дуже {стать:достойний:достойна} та {стать:спроможний:спроможна}\" use \"дуже {стать:достойний та спроможний:достойна та спроможна}\"\n",
    "\n",
    "4. **Formal and Informal Tone**:\n",
    "   - **Quest `objective` field**: Translate using a formal tone, where \"you\" becomes \"ви\" and \"your\" becomes \"ваш.\"\n",
    "   - **Quest `description`, `progress`, and `completion` fields**: By default, translate these fields using an informal tone, where \"you\" becomes \"ти\" and \"your\" becomes \"твій.\". If text describes environment/interaction or NPC speaks to player politely using \"sir\", \"lady\" etc - use formal tone.\n",
    "\n",
    "5. **Preserve Descriptive Formatting**:\n",
    "   - Retain all text enclosed in angle brackets (`<>`) that describes the environment, character reactions, or similar narrative elements. Translate the content within the brackets but preserve their formatting.\n",
    "\n",
    "6. **Maintain Lore and Style**:\n",
    "   - Ensure the translation captures the epic, immersive tone of World of Warcraft.\n",
    "   - Use established Warcraft terminology and lore-consistent language in Ukrainian.\n",
    "\n",
    "7. **Glossaries and terminology**:\n",
    "   - Always strictly refer to the translation glossary. Always use terms' translations from glossary, even if other more commonly used or recognized translations are available.\n",
    "   - Use consistent terminology throughout all translations. Adhere strictly to any provided glossaries, ensuring uniformity in translating terms such as character names, locations, and game-specific items.\n",
    "\n",
    "8. **Readability**:\n",
    "   - Ensure translations are natural, engaging, and free from awkward phrasing.\n",
    "   - Text should feel native and immersive for Ukrainian-speaking players.\n",
    "\n",
    "---\n",
    "\n",
    "### **Input Example**:\n",
    "\n",
    "```json\n",
    "{\n",
    "  \"original\": {\n",
    "    \"quest\": {\n",
    "      \"title\": \"Get rid of these boars\",\n",
    "      \"objective\": \"Kill 12 boars and return to John at Scarlet Monastery in Silverpine Forest.\",\n",
    "      \"description\": \"Reports have come in that wild boars trample our crops. We thought that other adventurer had dealt with this, <class>!\\n\\nI suggest that you to teach them a lesson as proof of your devotion.\",\n",
    "      \"progress\": \"Have you clear our fields of wild boars?\",\n",
    "      \"completion\": \"<John nods to you.>\\n\\nWe are pleased that you have prooved your devition, <name>. Surely now that you have made our point clear multiple times, their senseless attacks upon our crops will cease?\"\n",
    "    }\n",
    "  }\n",
    "}\n",
    "```\n",
    "\n",
    "---\n",
    "\n",
    "### **Output Example**:\n",
    "\n",
    "```json\n",
    "{\n",
    "  \"translation\": {\n",
    "    \"quest\": {\n",
    "      \"title\": \"Позбудься цих вепрів\",\n",
    "      \"objective\": \"Вбийте 12 вепрів і поверніться до Джона в Багряний Монастир, що в Срібнохвойному пралісі.\",\n",
    "      \"description\": \"Надходять повідомлення про диких вепрів, що топчуть наші посіви. Ми думали, що інші шукачі пригод вже розібралися з цим, {клас:к}!\\n\\nРаджу тобі провчити їх як доказ твоєї відданості.\",\n",
    "      \"progress\": \"Ти вже {стать:очистив:очистила} наші поля від диких вепрів?\",\n",
    "      \"completion\": \"<Джон киває вам.>\\n\\nМи задоволені, що ти {стать:довів:довела} свою відданість, {ім'я:к}. Тепер, коли ми вже неодноразово довели свою точку зору, може їхні безглузді напади на наші посіви припиняться?\"\n",
    "    }\n",
    "  }\n",
    "}\n",
    "```\n",
    "\n",
    "---\n",
    "\"\"\""
   ]
  },
  {
   "cell_type": "code",
   "execution_count": 107,
   "metadata": {},
   "outputs": [
    {
     "data": {
      "text/html": [
       "<div>\n",
       "<style scoped>\n",
       "    .dataframe tbody tr th:only-of-type {\n",
       "        vertical-align: middle;\n",
       "    }\n",
       "\n",
       "    .dataframe tbody tr th {\n",
       "        vertical-align: top;\n",
       "    }\n",
       "\n",
       "    .dataframe thead th {\n",
       "        text-align: right;\n",
       "    }\n",
       "</style>\n",
       "<table border=\"1\" class=\"dataframe\">\n",
       "  <thead>\n",
       "    <tr style=\"text-align: right;\">\n",
       "      <th></th>\n",
       "      <th>id</th>\n",
       "      <th>expansion</th>\n",
       "      <th>title_en</th>\n",
       "      <th>objective_en</th>\n",
       "      <th>description_en</th>\n",
       "      <th>progress_en</th>\n",
       "      <th>completion_en</th>\n",
       "      <th>title_uk</th>\n",
       "      <th>objective_uk</th>\n",
       "      <th>description_uk</th>\n",
       "      <th>progress_uk</th>\n",
       "      <th>completion_uk</th>\n",
       "      <th>cat</th>\n",
       "      <th>glossary</th>\n",
       "    </tr>\n",
       "  </thead>\n",
       "  <tbody>\n",
       "    <tr>\n",
       "      <th>314</th>\n",
       "      <td>334</td>\n",
       "      <td>classic</td>\n",
       "      <td>Package for Thurman</td>\n",
       "      <td>Go to the Larson Clothiers in the Stormwind Ma...</td>\n",
       "      <td>My son Thurman is an apprentice at the Larson ...</td>\n",
       "      <td>Are you here to buy clothes?</td>\n",
       "      <td>Oh, blast! I thought forgetting my kit would f...</td>\n",
       "      <td>Пакунок для Турмана</td>\n",
       "      <td>Відправляйтесь в \"сукна Ларсона\", що у квартал...</td>\n",
       "      <td>Мій син Турман — учень в \"сукнах Ларсона\", що ...</td>\n",
       "      <td>Вітаю! Бажаєте щось купити?</td>\n",
       "      <td>Ой, ле! Я думав, що, забувши інструменти, я зм...</td>\n",
       "      <td>Eastern Kingdoms/Stormwind City</td>\n",
       "      <td>[{'en': 'Stormwind', 'uk': 'Штормовій'}, {'en'...</td>\n",
       "    </tr>\n",
       "    <tr>\n",
       "      <th>812</th>\n",
       "      <td>861</td>\n",
       "      <td>classic</td>\n",
       "      <td>The Hunter's Way</td>\n",
       "      <td>Bring 4 Flatland Prowler Claws to Melor Stoneh...</td>\n",
       "      <td>You are eager to explore, I can tell. I too ha...</td>\n",
       "      <td>Greetings. There is an air about you that tell...</td>\n",
       "      <td>Skorn Whitecloud is a wise &lt;race&gt;. He has hunt...</td>\n",
       "      <td>Шлях мисливця</td>\n",
       "      <td>Принесіть 4 пазури рівнинного скрадача Мелоров...</td>\n",
       "      <td>А ти {стать:охочий:охоча} до мандрівок, я можу...</td>\n",
       "      <td>Вітаю. Твоя присутність багато про що говорить...</td>\n",
       "      <td>Скорн Біла Хмара - мудрий таурен. Він полював ...</td>\n",
       "      <td>Kalimdor/Mulgore</td>\n",
       "      <td>[{'en': 'Mulgore', 'uk': 'Мулґор'}, {'en': 'Th...</td>\n",
       "    </tr>\n",
       "    <tr>\n",
       "      <th>1298</th>\n",
       "      <td>1498</td>\n",
       "      <td>classic</td>\n",
       "      <td>Path of Defense</td>\n",
       "      <td>Bring 5 Singed Scales to Uzzek at Far Watch Po...</td>\n",
       "      <td>As a warrior, one of our most crucial tasks is...</td>\n",
       "      <td>Do you have the scales, &lt;name&gt;? Unless you can...</td>\n",
       "      <td>Ah. I see you have defeated the thunder lizard...</td>\n",
       "      <td>Мистецтво захисту</td>\n",
       "      <td>Принесіть 5 припалених лусок Узеку на Далекост...</td>\n",
       "      <td>Одна з твоїх найважливіших задач, як {клас:р}....</td>\n",
       "      <td>{стать:Приніс:Принесла} луску, {ім'я:к}? Якщо ...</td>\n",
       "      <td>А-а-а, бачу, ти {стать:поборов:поборола} громо...</td>\n",
       "      <td>Classes/Warrior</td>\n",
       "      <td>[{'en': 'The Horde', 'uk': 'Орда'}, {'en': 'Ba...</td>\n",
       "    </tr>\n",
       "    <tr>\n",
       "      <th>1315</th>\n",
       "      <td>1516</td>\n",
       "      <td>classic</td>\n",
       "      <td>Call of Earth</td>\n",
       "      <td>Bring 2 Felstalker Hooves to Canaga Earthcalle...</td>\n",
       "      <td>The time is now, young &lt;class&gt;. You've grown s...</td>\n",
       "      <td>Patience is earth's greatest virtue. The earth...</td>\n",
       "      <td>Excellent. Your success shows that you are pre...</td>\n",
       "      <td>Поклик землі</td>\n",
       "      <td>Принесіть 2 копита скверноловів Каназі Землезо...</td>\n",
       "      <td>Час прийшов, {стать:юний:юна} {клас:к}. Твої с...</td>\n",
       "      <td>Терпіння — найбільша чеснота землі. Земля є св...</td>\n",
       "      <td>Чудово. Твій успіх доводить, що ти {стать:гото...</td>\n",
       "      <td>Classes/Shaman</td>\n",
       "      <td>[{'en': 'Valley of Trials', 'uk': 'долина Випр...</td>\n",
       "    </tr>\n",
       "    <tr>\n",
       "      <th>1372</th>\n",
       "      <td>1679</td>\n",
       "      <td>classic</td>\n",
       "      <td>Muren Stormpike</td>\n",
       "      <td>Speak with Muren Stormpike.</td>\n",
       "      <td>Hello, warrior! You show a lot of promise, but...</td>\n",
       "      <td>None</td>\n",
       "      <td>Ah, &lt;name&gt;. I heard the warriors of Dun Morogh...</td>\n",
       "      <td>Мурен Бурешпиль</td>\n",
       "      <td>Поговоріть з Муреном Бурешпилем.</td>\n",
       "      <td>Вітаю, {клас:к}! Ти непогано себе {стать:прояв...</td>\n",
       "      <td>None</td>\n",
       "      <td>А, {ім'я}. Чув я щось про тебе від воїнів Дун-...</td>\n",
       "      <td>Classes/Warrior</td>\n",
       "      <td>[{'en': 'Dun Morogh', 'uk': 'Дун-Морог'}, {'en...</td>\n",
       "    </tr>\n",
       "  </tbody>\n",
       "</table>\n",
       "</div>"
      ],
      "text/plain": [
       "        id expansion             title_en  \\\n",
       "314    334   classic  Package for Thurman   \n",
       "812    861   classic     The Hunter's Way   \n",
       "1298  1498   classic      Path of Defense   \n",
       "1315  1516   classic        Call of Earth   \n",
       "1372  1679   classic      Muren Stormpike   \n",
       "\n",
       "                                           objective_en  \\\n",
       "314   Go to the Larson Clothiers in the Stormwind Ma...   \n",
       "812   Bring 4 Flatland Prowler Claws to Melor Stoneh...   \n",
       "1298  Bring 5 Singed Scales to Uzzek at Far Watch Po...   \n",
       "1315  Bring 2 Felstalker Hooves to Canaga Earthcalle...   \n",
       "1372                        Speak with Muren Stormpike.   \n",
       "\n",
       "                                         description_en  \\\n",
       "314   My son Thurman is an apprentice at the Larson ...   \n",
       "812   You are eager to explore, I can tell. I too ha...   \n",
       "1298  As a warrior, one of our most crucial tasks is...   \n",
       "1315  The time is now, young <class>. You've grown s...   \n",
       "1372  Hello, warrior! You show a lot of promise, but...   \n",
       "\n",
       "                                            progress_en  \\\n",
       "314                        Are you here to buy clothes?   \n",
       "812   Greetings. There is an air about you that tell...   \n",
       "1298  Do you have the scales, <name>? Unless you can...   \n",
       "1315  Patience is earth's greatest virtue. The earth...   \n",
       "1372                                               None   \n",
       "\n",
       "                                          completion_en             title_uk  \\\n",
       "314   Oh, blast! I thought forgetting my kit would f...  Пакунок для Турмана   \n",
       "812   Skorn Whitecloud is a wise <race>. He has hunt...        Шлях мисливця   \n",
       "1298  Ah. I see you have defeated the thunder lizard...    Мистецтво захисту   \n",
       "1315  Excellent. Your success shows that you are pre...         Поклик землі   \n",
       "1372  Ah, <name>. I heard the warriors of Dun Morogh...      Мурен Бурешпиль   \n",
       "\n",
       "                                           objective_uk  \\\n",
       "314   Відправляйтесь в \"сукна Ларсона\", що у квартал...   \n",
       "812   Принесіть 4 пазури рівнинного скрадача Мелоров...   \n",
       "1298  Принесіть 5 припалених лусок Узеку на Далекост...   \n",
       "1315  Принесіть 2 копита скверноловів Каназі Землезо...   \n",
       "1372                   Поговоріть з Муреном Бурешпилем.   \n",
       "\n",
       "                                         description_uk  \\\n",
       "314   Мій син Турман — учень в \"сукнах Ларсона\", що ...   \n",
       "812   А ти {стать:охочий:охоча} до мандрівок, я можу...   \n",
       "1298  Одна з твоїх найважливіших задач, як {клас:р}....   \n",
       "1315  Час прийшов, {стать:юний:юна} {клас:к}. Твої с...   \n",
       "1372  Вітаю, {клас:к}! Ти непогано себе {стать:прояв...   \n",
       "\n",
       "                                            progress_uk  \\\n",
       "314                         Вітаю! Бажаєте щось купити?   \n",
       "812   Вітаю. Твоя присутність багато про що говорить...   \n",
       "1298  {стать:Приніс:Принесла} луску, {ім'я:к}? Якщо ...   \n",
       "1315  Терпіння — найбільша чеснота землі. Земля є св...   \n",
       "1372                                               None   \n",
       "\n",
       "                                          completion_uk  \\\n",
       "314   Ой, ле! Я думав, що, забувши інструменти, я зм...   \n",
       "812   Скорн Біла Хмара - мудрий таурен. Він полював ...   \n",
       "1298  А-а-а, бачу, ти {стать:поборов:поборола} громо...   \n",
       "1315  Чудово. Твій успіх доводить, що ти {стать:гото...   \n",
       "1372  А, {ім'я}. Чув я щось про тебе від воїнів Дун-...   \n",
       "\n",
       "                                  cat  \\\n",
       "314   Eastern Kingdoms/Stormwind City   \n",
       "812                  Kalimdor/Mulgore   \n",
       "1298                  Classes/Warrior   \n",
       "1315                   Classes/Shaman   \n",
       "1372                  Classes/Warrior   \n",
       "\n",
       "                                               glossary  \n",
       "314   [{'en': 'Stormwind', 'uk': 'Штормовій'}, {'en'...  \n",
       "812   [{'en': 'Mulgore', 'uk': 'Мулґор'}, {'en': 'Th...  \n",
       "1298  [{'en': 'The Horde', 'uk': 'Орда'}, {'en': 'Ba...  \n",
       "1315  [{'en': 'Valley of Trials', 'uk': 'долина Випр...  \n",
       "1372  [{'en': 'Dun Morogh', 'uk': 'Дун-Морог'}, {'en...  "
      ]
     },
     "execution_count": 107,
     "metadata": {},
     "output_type": "execute_result"
    }
   ],
   "source": [
    "filtered_quests = df[df['description_uk'].str.contains(r'\\:р}', na=False)]\n",
    "filtered_quests.head()"
   ]
  },
  {
   "cell_type": "code",
   "execution_count": 108,
   "metadata": {},
   "outputs": [
    {
     "data": {
      "text/plain": [
       "[{'en': 'Stormwind', 'uk': 'Штормовій'},\n",
       " {'en': 'mage', 'uk': 'маг/магиня'},\n",
       " {'en': 'apprentice', 'uk': 'учень'},\n",
       " {'en': 'Thurman Schneider', 'uk': 'Турман Шнайдер'}]"
      ]
     },
     "execution_count": 108,
     "metadata": {},
     "output_type": "execute_result"
    }
   ],
   "source": [
    "quest_row = filtered_quests.iloc[0]\n",
    "quest_row['glossary']"
   ]
  },
  {
   "cell_type": "code",
   "execution_count": 116,
   "metadata": {},
   "outputs": [
    {
     "data": {
      "text/plain": [
       "{'quest': {'title': 'Посилка для Турмана',\n",
       "  'objective': 'Відправляйтесь до Ларсонів в Штормовій, в квартал магів, і віддайте Турману Шнайдеру його швейний набір.',\n",
       "  'description': \"Мій син Турман — учень у Ларсонів, в кварталі магів. Сьогодні він так поспішав, що забув свої ножиці та голки. Я знаю, що такий {клас:к}, як ти, має важливіші справи, але без своїх інструментів Турман не зможе виконувати свої обов'язки!\\n\\nБудь ласка, {ім'я}. Можеш віднести моєму синові його швейний набір? Ларсони — одна з двох швейних крамниць в кварталі магів. Вони розташовані далі всередину, біля вежі магів.\",\n",
       "  'progress': 'Ви тут, щоб купити одяг?',\n",
       "  'completion': 'Ой, чорт! Я думав, що забувши свій набір, я позбудуся роботи. Тепер мені, мабуть, доведеться допомагати Ларсонам з шиттям...\\n\\nНу, що ж. Я думаю, що розваги прийдуть пізніше.'}}"
      ]
     },
     "execution_count": 116,
     "metadata": {},
     "output_type": "execute_result"
    }
   ],
   "source": [
    "messages = [{'role': 'system', 'content': TRANSLATION_SYSTEM_PROMPT}, {'role': 'user', 'content': str(generate_request_json(quest_row))}]\n",
    "\n",
    "response = client.chat.completions.create(\n",
    "  # model=\"gpt-4o\",\n",
    "  # model=\"gpt-4o-mini\",\n",
    "  model=\"ft:gpt-4o-mini-2024-07-18:personal:classicua-trained-3:AXaw8vp9\",\n",
    "  # model=\"gpt-3.5-turbo\",\n",
    "  messages=messages,\n",
    "  response_format={\"type\":\"json_object\"},\n",
    "  temperature=0.5,\n",
    "  top_p=0.7\n",
    ")\n",
    "\n",
    "# print(response.choices[0].message)\n",
    "import json\n",
    "json_response = response.choices[0].message.content\n",
    "json.loads(json_response)['translation']"
   ]
  },
  {
   "cell_type": "code",
   "execution_count": 103,
   "metadata": {},
   "outputs": [
    {
     "data": {
      "text/plain": [
       "{'quest': {'title': 'Посилка для Турмана',\n",
       "  'objective': 'Іди до Ларсонів у Штормовій, в Магічному Кварталі, і передай Турману Шнайдеру його Набір для Шиття.',\n",
       "  'description': \"Мій син Турман - учень у Ларсонів, в Магічному Кварталі. Сьогодні він поспішав і забув свої ножиці та голки. Я знаю, що такий чудовий {клас:к}, як ти, має важливі справи, але без своїх інструментів Турман не зможе виконувати свою учнівську роботу!\\n\\nБудь ласка, {ім'я:н}. Ти можеш віднести набір для шиття мого сина йому? Ларсонів - один з двох магазинів одягу в Магічному Кварталі - це той, що глибше, біля Магічної Вежі.\",\n",
       "  'progress': 'Ти тут, щоб купити одяг?',\n",
       "  'completion': 'О, чорт! Я думав, що забувши свій набір, звільнюся від роботи. Тепер, мабуть, мені доведеться допомагати Ларсонам з їхнім шиттям...\\n\\nНу, що ж. Розваги прийдуть пізніше, я гадаю.'}}"
      ]
     },
     "execution_count": 103,
     "metadata": {},
     "output_type": "execute_result"
    }
   ],
   "source": [
    "import json\n",
    "json_response = response.choices[0].message.content\n",
    "json.loads(json_response)['translation']"
   ]
  },
  {
   "cell_type": "code",
   "execution_count": null,
   "metadata": {},
   "outputs": [],
   "source": [
    "translated = df[df['title_uk'].notnull()]\n",
    "untranslated = df[df['title_uk'].isnull()]\n",
    "translated.head()"
   ]
  },
  {
   "cell_type": "code",
   "execution_count": 117,
   "metadata": {},
   "outputs": [],
   "source": [
    "def construct_prompt_completion(quest_row):\n",
    "    messages = [{'role': 'system', 'content': TRANSLATION_SYSTEM_PROMPT}, {'role': 'user', 'content': str(generate_request_json(quest_row))}, {'role': 'assistant', 'content': str(generate_response_json(quest_row))}]\n",
    "    return {\"messages\": messages}\n",
    "\n",
    "jsonl_data = translated.apply(construct_prompt_completion, axis=1).tolist()"
   ]
  },
  {
   "cell_type": "code",
   "execution_count": 111,
   "metadata": {},
   "outputs": [
    {
     "data": {
      "text/plain": [
       "13691292"
      ]
     },
     "execution_count": 111,
     "metadata": {},
     "output_type": "execute_result"
    }
   ],
   "source": [
    "# %pip install tiktoken\n",
    "import tiktoken\n",
    "\n",
    "def num_tokens_from_string(string: str, encoding_name:str=\"cl100k_base\") -> int:\n",
    "    encoding = tiktoken.get_encoding(encoding_name)\n",
    "    num_tokens = len(encoding.encode(string))\n",
    "    return num_tokens\n",
    "\n",
    "num_tokens_from_string(str(jsonl_data))"
   ]
  },
  {
   "cell_type": "code",
   "execution_count": 118,
   "metadata": {},
   "outputs": [],
   "source": [
    "# Meticulously chosen and refined translations with various cases for pre-training:\n",
    "pre_training_quest_ids = [(22, \"classic\"), (60, \"classic\"),(188, \"classic\"),(230, \"classic\"),(334, \"classic\"),(365, \"classic\"),(575, \"classic\"),(595, \"classic\"),(663, \"wrath\"),(752, \"classic\"),(753, \"classic\"),(884, \"classic\"),(902, \"classic\"),(1140, \"classic\"),(1718, \"classic\"),(2278, \"classic\"),(2279, \"classic\"),(2280, \"classic\"),(2358, \"wrath\"),(2947, \"classic\"),(2949, \"classic\"),(2978, \"classic\"),(3741, \"classic\"),(3942, \"classic\"),(4602, \"classic\"),(4603, \"classic\"),(5210, \"classic\"),(5943, \"classic\"),(9393, \"tbc\"),(9402, \"tbc\"),(9488, \"tbc\"),(9523, \"tbc\"),(9558, \"tbc\"),(9595, \"tbc\"),(9616, \"tbc\"),(9646, \"tbc\"),(9649, \"tbc\"),(9696, \"tbc\"),(9797, \"tbc\"),(10065, \"tbc\"),(77643, \"sod\")]\n",
    "# Some more data for pre-training:\n",
    "additional_pre_training_quest_ids = [(2, \"classic\"),(5, \"classic\"),(6, \"classic\"),(7, \"classic\"),(8, \"classic\"),(9, \"classic\"),(10, \"classic\"),(11, \"classic\"),(12, \"classic\"),(13, \"classic\"),(14, \"classic\"),(15, \"classic\"),(17, \"classic\"),(18, \"classic\"),(19, \"classic\"),(20, \"classic\"),(21, \"classic\"),(23, \"classic\"),(24, \"classic\"),(25, \"classic\"),(26, \"classic\"),(28, \"classic\"),(33, \"classic\"),(34, \"classic\"),(35, \"classic\"),(36, \"classic\"),(37, \"classic\"),(38, \"classic\"),(39, \"classic\"),(40, \"classic\"),(45, \"classic\"),(46, \"classic\"),(47, \"classic\"),(52, \"classic\"),(54, \"classic\"),(55, \"classic\"),(56, \"classic\"),(57, \"classic\"),(58, \"classic\"),(59, \"classic\"),(62, \"classic\"),(64, \"classic\"),(65, \"classic\"),(66, \"classic\"),(67, \"classic\"),(68, \"classic\"),(69, \"classic\"),(70, \"classic\"),(71, \"classic\"),(72, \"classic\"),(74, \"classic\"),(75, \"classic\"),(76, \"classic\"),(85, \"classic\"),(85, \"classic\"),(86, \"classic\"),(87, \"classic\"),(88, \"classic\"),(89, \"classic\")]\n",
    "\n",
    "filter_condition = pd.DataFrame([*pre_training_quest_ids, *additional_pre_training_quest_ids], columns=[\"id\", \"expansion\"])\n",
    "pre_training_quests = translated.merge(filter_condition, on=[\"id\", \"expansion\"])"
   ]
  },
  {
   "cell_type": "code",
   "execution_count": 119,
   "metadata": {},
   "outputs": [
    {
     "data": {
      "text/plain": [
       "227569"
      ]
     },
     "execution_count": 119,
     "metadata": {},
     "output_type": "execute_result"
    }
   ],
   "source": [
    "jsonl_data = pre_training_quests.apply(construct_prompt_completion, axis=1).tolist()\n",
    "num_tokens_from_string(str(jsonl_data))"
   ]
  },
  {
   "cell_type": "code",
   "execution_count": 120,
   "metadata": {},
   "outputs": [],
   "source": [
    "import json\n",
    "\n",
    "with open('pre_training_data.jsonl', 'w', encoding='utf-8') as f:\n",
    "    for entry in jsonl_data[:80]:\n",
    "        json.dump(entry, f, ensure_ascii=False)\n",
    "        f.write('\\n')\n",
    "\n",
    "with open('pre_training_validation.jsonl', 'w', encoding='utf-8') as f:\n",
    "    for entry in jsonl_data[80:]:\n",
    "        json.dump(entry, f, ensure_ascii=False)\n",
    "        f.write('\\n')"
   ]
  },
  {
   "cell_type": "code",
   "execution_count": 121,
   "metadata": {},
   "outputs": [],
   "source": [
    "with open('test.json', 'w', encoding='utf-8') as f:\n",
    "    json.dump(generate_request_json(untranslated.iloc[3]), f, ensure_ascii=False)"
   ]
  },
  {
   "cell_type": "markdown",
   "metadata": {},
   "source": [
    "trolls and dwarfs language..."
   ]
  }
 ],
 "metadata": {
  "kernelspec": {
   "display_name": "Python 3 (ipykernel)",
   "language": "python",
   "name": "python3"
  },
  "language_info": {
   "codemirror_mode": {
    "name": "ipython",
    "version": 3
   },
   "file_extension": ".py",
   "mimetype": "text/x-python",
   "name": "python",
   "nbconvert_exporter": "python",
   "pygments_lexer": "ipython3",
   "version": "3.12.2"
  }
 },
 "nbformat": 4,
 "nbformat_minor": 4
}
